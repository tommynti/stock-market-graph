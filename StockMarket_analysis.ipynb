{
 "cells": [
  {
   "cell_type": "code",
   "execution_count": 5,
   "metadata": {},
   "outputs": [],
   "source": [
    "from pandas_datareader import data\n",
    "import datetime\n",
    "from bokeh.plotting import figure, show, output_file\n",
    "\n",
    "df=data.DataReader(name=\"GOOG\",data_source=\"yahoo\",start=\"2020-01-01\",end=\"2020-07-28\") # enter the stock symbol eg. AAPL=apple\n",
    "\n",
    "\n",
    "def stock_status(cl,op):\n",
    "    if cl>op:\n",
    "        status=\"Increase\"\n",
    "    elif cl<op:\n",
    "        status=\"Decrease\"\n",
    "    else:\n",
    "        status=\"Stable\"\n",
    "    \n",
    "    return status\n",
    "\n",
    "df[\"Status\"]=[stock_status(cl,op) for cl,op in zip(df.Close,df.Open)]\n",
    "df[\"Center\"]=(df.Open+df.Close)/2\n",
    "df[\"Rect_Height\"]=abs(df.Open-df.Close)\n",
    "\n",
    "p=figure(x_axis_type='datetime', width=1000, height=300,sizing_mode =\"scale_width\")\n",
    "p.title.text=\"Candlestick Chart\"\n",
    "p.title.text_color=\"#5F9EA0\"\n",
    "p.title.text_font_style=\"bold italic\"\n",
    "p.title.text_font_size='20pt'\n",
    "p.title.align=\"center\"\n",
    "p.grid.grid_line_alpha=0.5\n",
    "\n",
    "hours_12=12*60*60*1000  \n",
    "\n",
    "p.segment(df.index, df.High, df.index, df.Low, color=\"Black\")  \n",
    "\n",
    "p.rect(df.index[df.Status==\"Increase\"], df.Center[df.Status==\"Increase\"], hours_12, df.Rect_Height[df.Status==\"Increase\"],\n",
    "      fill_color=\"green\", line_color=\"green\")  # (shmeio aksana x, kentro, width, height)\n",
    "\n",
    "p.rect(df.index[df.Status==\"Decrease\"], df.Center[df.Status==\"Decrease\"], hours_12, df.Rect_Height[df.Status==\"Decrease\"],\n",
    "      fill_color=\"red\", line_color=\"red\")\n",
    "\n",
    "\n",
    "output_file(\"CandleStick.html\")\n",
    "show(p)"
   ]
  }
 ],
 "metadata": {
  "kernelspec": {
   "display_name": "Python 3",
   "language": "python",
   "name": "python3"
  },
  "language_info": {
   "codemirror_mode": {
    "name": "ipython",
    "version": 3
   },
   "file_extension": ".py",
   "mimetype": "text/x-python",
   "name": "python",
   "nbconvert_exporter": "python",
   "pygments_lexer": "ipython3",
   "version": "3.8.5"
  }
 },
 "nbformat": 4,
 "nbformat_minor": 2
}
